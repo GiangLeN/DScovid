{
 "cells": [
  {
   "cell_type": "code",
   "execution_count": 1,
   "metadata": {},
   "outputs": [],
   "source": [
    "import numpy as np\n",
    "import pandas as pd\n",
    "import matplotlib.pyplot as plt\n",
    "import geopandas as gpd\n",
    "import osmnx as ox\n",
    "from descartes import PolygonPatch\n",
    "from shapely.geometry import Point, LineString, Polygon, MultiPolygon\n",
    "from shapely.ops import unary_union\n",
    "import contextily as ctx"
   ]
  },
  {
   "cell_type": "code",
   "execution_count": 2,
   "metadata": {},
   "outputs": [
    {
     "data": {
      "text/html": [
       "<div>\n",
       "<style scoped>\n",
       "    .dataframe tbody tr th:only-of-type {\n",
       "        vertical-align: middle;\n",
       "    }\n",
       "\n",
       "    .dataframe tbody tr th {\n",
       "        vertical-align: top;\n",
       "    }\n",
       "\n",
       "    .dataframe thead th {\n",
       "        text-align: right;\n",
       "    }\n",
       "</style>\n",
       "<table border=\"1\" class=\"dataframe\">\n",
       "  <thead>\n",
       "    <tr style=\"text-align: right;\">\n",
       "      <th></th>\n",
       "      <th>place_name</th>\n",
       "      <th>bbox_north</th>\n",
       "      <th>bbox_south</th>\n",
       "      <th>bbox_east</th>\n",
       "      <th>bbox_west</th>\n",
       "      <th>geometry</th>\n",
       "    </tr>\n",
       "  </thead>\n",
       "  <tbody>\n",
       "    <tr>\n",
       "      <th>0</th>\n",
       "      <td>Groningen, Netherlands, The Netherlands</td>\n",
       "      <td>53.264947</td>\n",
       "      <td>53.178610</td>\n",
       "      <td>6.666873</td>\n",
       "      <td>6.462746</td>\n",
       "      <td>POLYGON ((6.46275 53.20198, 6.46314 53.20220, ...</td>\n",
       "    </tr>\n",
       "    <tr>\n",
       "      <th>1</th>\n",
       "      <td>Friesland, Netherlands, The Netherlands</td>\n",
       "      <td>53.539713</td>\n",
       "      <td>52.764805</td>\n",
       "      <td>6.427615</td>\n",
       "      <td>4.818376</td>\n",
       "      <td>POLYGON ((4.81838 53.21427, 4.83319 53.22633, ...</td>\n",
       "    </tr>\n",
       "    <tr>\n",
       "      <th>2</th>\n",
       "      <td>Drenthe, Netherlands, The Netherlands</td>\n",
       "      <td>53.203832</td>\n",
       "      <td>52.612195</td>\n",
       "      <td>7.092740</td>\n",
       "      <td>6.119820</td>\n",
       "      <td>POLYGON ((6.11982 52.85422, 6.12051 52.85447, ...</td>\n",
       "    </tr>\n",
       "    <tr>\n",
       "      <th>3</th>\n",
       "      <td>Overijssel, Netherlands, The Netherlands</td>\n",
       "      <td>52.854215</td>\n",
       "      <td>52.118069</td>\n",
       "      <td>7.072763</td>\n",
       "      <td>5.777750</td>\n",
       "      <td>POLYGON ((5.77775 52.58300, 5.77797 52.60753, ...</td>\n",
       "    </tr>\n",
       "    <tr>\n",
       "      <th>4</th>\n",
       "      <td>Gelderland, Netherlands, The Netherlands</td>\n",
       "      <td>52.522025</td>\n",
       "      <td>51.733581</td>\n",
       "      <td>6.832802</td>\n",
       "      <td>4.993855</td>\n",
       "      <td>POLYGON ((4.99385 51.86071, 4.99385 51.86075, ...</td>\n",
       "    </tr>\n",
       "  </tbody>\n",
       "</table>\n",
       "</div>"
      ],
      "text/plain": [
       "                                 place_name  bbox_north  bbox_south  \\\n",
       "0   Groningen, Netherlands, The Netherlands   53.264947   53.178610   \n",
       "1   Friesland, Netherlands, The Netherlands   53.539713   52.764805   \n",
       "2     Drenthe, Netherlands, The Netherlands   53.203832   52.612195   \n",
       "3  Overijssel, Netherlands, The Netherlands   52.854215   52.118069   \n",
       "4  Gelderland, Netherlands, The Netherlands   52.522025   51.733581   \n",
       "\n",
       "   bbox_east  bbox_west                                           geometry  \n",
       "0   6.666873   6.462746  POLYGON ((6.46275 53.20198, 6.46314 53.20220, ...  \n",
       "1   6.427615   4.818376  POLYGON ((4.81838 53.21427, 4.83319 53.22633, ...  \n",
       "2   7.092740   6.119820  POLYGON ((6.11982 52.85422, 6.12051 52.85447, ...  \n",
       "3   7.072763   5.777750  POLYGON ((5.77775 52.58300, 5.77797 52.60753, ...  \n",
       "4   6.832802   4.993855  POLYGON ((4.99385 51.86071, 4.99385 51.86075, ...  "
      ]
     },
     "execution_count": 2,
     "metadata": {},
     "output_type": "execute_result"
    }
   ],
   "source": [
    "## Load shape file\n",
    "nl = gpd.read_file(\"./Netherlands/maps.shp\")\n",
    "nl.head()"
   ]
  },
  {
   "cell_type": "code",
   "execution_count": 3,
   "metadata": {},
   "outputs": [
    {
     "data": {
      "text/plain": [
       "12"
      ]
     },
     "execution_count": 3,
     "metadata": {},
     "output_type": "execute_result"
    }
   ],
   "source": [
    "## Number of regions\n",
    "len(nl)"
   ]
  },
  {
   "cell_type": "code",
   "execution_count": 4,
   "metadata": {},
   "outputs": [
    {
     "data": {
      "text/plain": [
       "<AxesSubplot:>"
      ]
     },
     "execution_count": 4,
     "metadata": {},
     "output_type": "execute_result"
    },
    {
     "data": {
      "image/png": "[encoded data removed]",
      "text/plain": [
       "<Figure size 432x288 with 1 Axes>"
      ]
     },
     "metadata": {
      "needs_background": "light"
     },
     "output_type": "display_data"
    }
   ],
   "source": [
    "nl.plot()"
   ]
  },
  {
   "cell_type": "code",
   "execution_count": 24,
   "metadata": {},
   "outputs": [],
   "source": [
    "nlcoord = nl['geometry'][:]"
   ]
  },
  {
   "cell_type": "code",
   "execution_count": 25,
   "metadata": {},
   "outputs": [
    {
     "data": {
      "text/plain": [
       "0     POLYGON ((6.46275 53.20198, 6.46314 53.20220, ...\n",
       "1     POLYGON ((4.81838 53.21427, 4.83319 53.22633, ...\n",
       "2     POLYGON ((6.11982 52.85422, 6.12051 52.85447, ...\n",
       "3     POLYGON ((5.77775 52.58300, 5.77797 52.60753, ...\n",
       "4     POLYGON ((4.99385 51.86071, 4.99385 51.86075, ...\n",
       "5     POLYGON ((5.06043 52.57894, 5.07459 52.58367, ...\n",
       "6     POLYGON ((4.79204 52.12231, 4.79206 52.12238, ...\n",
       "7     POLYGON ((4.47765 52.33251, 4.47919 52.33473, ...\n",
       "8     POLYGON ((3.77368 51.78152, 3.80174 51.79670, ...\n",
       "9     POLYGON ((3.30794 51.43337, 3.32030 51.45825, ...\n",
       "10    MULTIPOLYGON (((4.19012 51.60275, 4.19028 51.6...\n",
       "11    POLYGON ((5.56605 51.22091, 5.57173 51.22194, ...\n",
       "Name: geometry, dtype: geometry"
      ]
     },
     "execution_count": 25,
     "metadata": {},
     "output_type": "execute_result"
    }
   ],
   "source": [
    "nlcoord"
   ]
  },
  {
   "cell_type": "code",
   "execution_count": 20,
   "metadata": {},
   "outputs": [],
   "source": [
    "polylist = [p for p in nlcoord]"
   ]
  },
  {
   "cell_type": "code",
   "execution_count": 29,
   "metadata": {},
   "outputs": [
    {
     "data": {
      "text/plain": [
       "[<shapely.geometry.polygon.Polygon at 0x26801a5ef40>,\n",
       " <shapely.geometry.polygon.Polygon at 0x26807d57430>,\n",
       " <shapely.geometry.polygon.Polygon at 0x26807d573d0>,\n",
       " <shapely.geometry.polygon.Polygon at 0x26801a69880>,\n",
       " <shapely.geometry.polygon.Polygon at 0x26801a65a90>,\n",
       " <shapely.geometry.polygon.Polygon at 0x26801a650d0>,\n",
       " <shapely.geometry.polygon.Polygon at 0x26801a650a0>,\n",
       " <shapely.geometry.polygon.Polygon at 0x26801a659a0>,\n",
       " <shapely.geometry.polygon.Polygon at 0x26801a65880>,\n",
       " <shapely.geometry.polygon.Polygon at 0x26801a4ff10>,\n",
       " <shapely.geometry.multipolygon.MultiPolygon at 0x26801a4ffd0>,\n",
       " <shapely.geometry.polygon.Polygon at 0x26801a4f9d0>]"
      ]
     },
     "execution_count": 29,
     "metadata": {},
     "output_type": "execute_result"
    }
   ],
   "source": [
    "polylist"
   ]
  },
  {
   "cell_type": "code",
   "execution_count": 8,
   "metadata": {},
   "outputs": [],
   "source": [
    "pop = pd.read_csv(\"./population2019.csv\")"
   ]
  },
  {
   "cell_type": "code",
   "execution_count": 11,
   "metadata": {},
   "outputs": [
    {
     "data": {
      "text/plain": [
       "0      583990\n",
       "1      647672\n",
       "2      492167\n",
       "3     1156431\n",
       "4     2071972\n",
       "5      416546\n",
       "6     1342158\n",
       "7     2853359\n",
       "8     3673893\n",
       "9      383032\n",
       "10    2544806\n",
       "11    1116137\n",
       "Name: Population, dtype: int64"
      ]
     },
     "execution_count": 11,
     "metadata": {},
     "output_type": "execute_result"
    }
   ],
   "source": [
    "pop['Population']"
   ]
  },
  {
   "cell_type": "code",
   "execution_count": 30,
   "metadata": {},
   "outputs": [],
   "source": [
    "polyframe = gpd.GeoDataFrame(geometry=polylist)"
   ]
  },
  {
   "cell_type": "code",
   "execution_count": 31,
   "metadata": {},
   "outputs": [
    {
     "data": {
      "text/html": [
       "<div>\n",
       "<style scoped>\n",
       "    .dataframe tbody tr th:only-of-type {\n",
       "        vertical-align: middle;\n",
       "    }\n",
       "\n",
       "    .dataframe tbody tr th {\n",
       "        vertical-align: top;\n",
       "    }\n",
       "\n",
       "    .dataframe thead th {\n",
       "        text-align: right;\n",
       "    }\n",
       "</style>\n",
       "<table border=\"1\" class=\"dataframe\">\n",
       "  <thead>\n",
       "    <tr style=\"text-align: right;\">\n",
       "      <th></th>\n",
       "      <th>geometry</th>\n",
       "    </tr>\n",
       "  </thead>\n",
       "  <tbody>\n",
       "    <tr>\n",
       "      <th>0</th>\n",
       "      <td>POLYGON ((6.46275 53.20198, 6.46314 53.20220, ...</td>\n",
       "    </tr>\n",
       "    <tr>\n",
       "      <th>1</th>\n",
       "      <td>POLYGON ((4.81838 53.21427, 4.83319 53.22633, ...</td>\n",
       "    </tr>\n",
       "    <tr>\n",
       "      <th>2</th>\n",
       "      <td>POLYGON ((6.11982 52.85422, 6.12051 52.85447, ...</td>\n",
       "    </tr>\n",
       "    <tr>\n",
       "      <th>3</th>\n",
       "      <td>POLYGON ((5.77775 52.58300, 5.77797 52.60753, ...</td>\n",
       "    </tr>\n",
       "    <tr>\n",
       "      <th>4</th>\n",
       "      <td>POLYGON ((4.99385 51.86071, 4.99385 51.86075, ...</td>\n",
       "    </tr>\n",
       "    <tr>\n",
       "      <th>5</th>\n",
       "      <td>POLYGON ((5.06043 52.57894, 5.07459 52.58367, ...</td>\n",
       "    </tr>\n",
       "    <tr>\n",
       "      <th>6</th>\n",
       "      <td>POLYGON ((4.79204 52.12231, 4.79206 52.12238, ...</td>\n",
       "    </tr>\n",
       "    <tr>\n",
       "      <th>7</th>\n",
       "      <td>POLYGON ((4.47765 52.33251, 4.47919 52.33473, ...</td>\n",
       "    </tr>\n",
       "    <tr>\n",
       "      <th>8</th>\n",
       "      <td>POLYGON ((3.77368 51.78152, 3.80174 51.79670, ...</td>\n",
       "    </tr>\n",
       "    <tr>\n",
       "      <th>9</th>\n",
       "      <td>POLYGON ((3.30794 51.43337, 3.32030 51.45825, ...</td>\n",
       "    </tr>\n",
       "    <tr>\n",
       "      <th>10</th>\n",
       "      <td>MULTIPOLYGON (((4.19012 51.60275, 4.19028 51.6...</td>\n",
       "    </tr>\n",
       "    <tr>\n",
       "      <th>11</th>\n",
       "      <td>POLYGON ((5.56605 51.22091, 5.57173 51.22194, ...</td>\n",
       "    </tr>\n",
       "  </tbody>\n",
       "</table>\n",
       "</div>"
      ],
      "text/plain": [
       "                                             geometry\n",
       "0   POLYGON ((6.46275 53.20198, 6.46314 53.20220, ...\n",
       "1   POLYGON ((4.81838 53.21427, 4.83319 53.22633, ...\n",
       "2   POLYGON ((6.11982 52.85422, 6.12051 52.85447, ...\n",
       "3   POLYGON ((5.77775 52.58300, 5.77797 52.60753, ...\n",
       "4   POLYGON ((4.99385 51.86071, 4.99385 51.86075, ...\n",
       "5   POLYGON ((5.06043 52.57894, 5.07459 52.58367, ...\n",
       "6   POLYGON ((4.79204 52.12231, 4.79206 52.12238, ...\n",
       "7   POLYGON ((4.47765 52.33251, 4.47919 52.33473, ...\n",
       "8   POLYGON ((3.77368 51.78152, 3.80174 51.79670, ...\n",
       "9   POLYGON ((3.30794 51.43337, 3.32030 51.45825, ...\n",
       "10  MULTIPOLYGON (((4.19012 51.60275, 4.19028 51.6...\n",
       "11  POLYGON ((5.56605 51.22091, 5.57173 51.22194, ..."
      ]
     },
     "execution_count": 31,
     "metadata": {},
     "output_type": "execute_result"
    }
   ],
   "source": [
    "polyframe"
   ]
  },
  {
   "cell_type": "code",
   "execution_count": 32,
   "metadata": {},
   "outputs": [],
   "source": [
    "polyframe['population'] = pop['Population']"
   ]
  },
  {
   "cell_type": "code",
   "execution_count": 33,
   "metadata": {},
   "outputs": [
    {
     "data": {
      "text/html": [
       "<div>\n",
       "<style scoped>\n",
       "    .dataframe tbody tr th:only-of-type {\n",
       "        vertical-align: middle;\n",
       "    }\n",
       "\n",
       "    .dataframe tbody tr th {\n",
       "        vertical-align: top;\n",
       "    }\n",
       "\n",
       "    .dataframe thead th {\n",
       "        text-align: right;\n",
       "    }\n",
       "</style>\n",
       "<table border=\"1\" class=\"dataframe\">\n",
       "  <thead>\n",
       "    <tr style=\"text-align: right;\">\n",
       "      <th></th>\n",
       "      <th>geometry</th>\n",
       "      <th>population</th>\n",
       "    </tr>\n",
       "  </thead>\n",
       "  <tbody>\n",
       "    <tr>\n",
       "      <th>0</th>\n",
       "      <td>POLYGON ((6.46275 53.20198, 6.46314 53.20220, ...</td>\n",
       "      <td>583990</td>\n",
       "    </tr>\n",
       "    <tr>\n",
       "      <th>1</th>\n",
       "      <td>POLYGON ((4.81838 53.21427, 4.83319 53.22633, ...</td>\n",
       "      <td>647672</td>\n",
       "    </tr>\n",
       "    <tr>\n",
       "      <th>2</th>\n",
       "      <td>POLYGON ((6.11982 52.85422, 6.12051 52.85447, ...</td>\n",
       "      <td>492167</td>\n",
       "    </tr>\n",
       "    <tr>\n",
       "      <th>3</th>\n",
       "      <td>POLYGON ((5.77775 52.58300, 5.77797 52.60753, ...</td>\n",
       "      <td>1156431</td>\n",
       "    </tr>\n",
       "    <tr>\n",
       "      <th>4</th>\n",
       "      <td>POLYGON ((4.99385 51.86071, 4.99385 51.86075, ...</td>\n",
       "      <td>2071972</td>\n",
       "    </tr>\n",
       "    <tr>\n",
       "      <th>5</th>\n",
       "      <td>POLYGON ((5.06043 52.57894, 5.07459 52.58367, ...</td>\n",
       "      <td>416546</td>\n",
       "    </tr>\n",
       "    <tr>\n",
       "      <th>6</th>\n",
       "      <td>POLYGON ((4.79204 52.12231, 4.79206 52.12238, ...</td>\n",
       "      <td>1342158</td>\n",
       "    </tr>\n",
       "    <tr>\n",
       "      <th>7</th>\n",
       "      <td>POLYGON ((4.47765 52.33251, 4.47919 52.33473, ...</td>\n",
       "      <td>2853359</td>\n",
       "    </tr>\n",
       "    <tr>\n",
       "      <th>8</th>\n",
       "      <td>POLYGON ((3.77368 51.78152, 3.80174 51.79670, ...</td>\n",
       "      <td>3673893</td>\n",
       "    </tr>\n",
       "    <tr>\n",
       "      <th>9</th>\n",
       "      <td>POLYGON ((3.30794 51.43337, 3.32030 51.45825, ...</td>\n",
       "      <td>383032</td>\n",
       "    </tr>\n",
       "    <tr>\n",
       "      <th>10</th>\n",
       "      <td>MULTIPOLYGON (((4.19012 51.60275, 4.19028 51.6...</td>\n",
       "      <td>2544806</td>\n",
       "    </tr>\n",
       "    <tr>\n",
       "      <th>11</th>\n",
       "      <td>POLYGON ((5.56605 51.22091, 5.57173 51.22194, ...</td>\n",
       "      <td>1116137</td>\n",
       "    </tr>\n",
       "  </tbody>\n",
       "</table>\n",
       "</div>"
      ],
      "text/plain": [
       "                                             geometry  population\n",
       "0   POLYGON ((6.46275 53.20198, 6.46314 53.20220, ...      583990\n",
       "1   POLYGON ((4.81838 53.21427, 4.83319 53.22633, ...      647672\n",
       "2   POLYGON ((6.11982 52.85422, 6.12051 52.85447, ...      492167\n",
       "3   POLYGON ((5.77775 52.58300, 5.77797 52.60753, ...     1156431\n",
       "4   POLYGON ((4.99385 51.86071, 4.99385 51.86075, ...     2071972\n",
       "5   POLYGON ((5.06043 52.57894, 5.07459 52.58367, ...      416546\n",
       "6   POLYGON ((4.79204 52.12231, 4.79206 52.12238, ...     1342158\n",
       "7   POLYGON ((4.47765 52.33251, 4.47919 52.33473, ...     2853359\n",
       "8   POLYGON ((3.77368 51.78152, 3.80174 51.79670, ...     3673893\n",
       "9   POLYGON ((3.30794 51.43337, 3.32030 51.45825, ...      383032\n",
       "10  MULTIPOLYGON (((4.19012 51.60275, 4.19028 51.6...     2544806\n",
       "11  POLYGON ((5.56605 51.22091, 5.57173 51.22194, ...     1116137"
      ]
     },
     "execution_count": 33,
     "metadata": {},
     "output_type": "execute_result"
    }
   ],
   "source": [
    "polyframe"
   ]
  },
  {
   "cell_type": "code",
   "execution_count": 36,
   "metadata": {},
   "outputs": [],
   "source": [
    "## Gets all geometry locations\n",
    "places = nl['geometry'].iloc[:]\n",
    "west, south, east, north = unary_union(places).bounds"
   ]
  },
  {
   "cell_type": "code",
   "execution_count": 47,
   "metadata": {},
   "outputs": [
    {
     "data": {
      "image/png": "[encoded data removed]",
      "text/plain": [
       "<Figure size 1440x720 with 2 Axes>"
      ]
     },
     "metadata": {
      "needs_background": "light"
     },
     "output_type": "display_data"
    }
   ],
   "source": [
    "fig, ax = plt.subplots(figsize=(20,10))\n",
    "polyframe.plot(ax=ax, column = 'population', legend = True, cmap='magma')\n",
    "\n",
    "ax.set_xlim(west, east)\n",
    "ax.set_ylim(south, north)\n",
    "ax.axis('off')\n",
    "plt.show()"
   ]
  },
  {
   "cell_type": "code",
   "execution_count": null,
   "metadata": {},
   "outputs": [],
   "source": []
  }
 ],
 "metadata": {
  "kernelspec": {
   "display_name": "Python 3",
   "language": "python",
   "name": "python3"
  },
  "language_info": {
   "codemirror_mode": {
    "name": "ipython",
    "version": 3
   },
   "file_extension": ".py",
   "mimetype": "text/x-python",
   "name": "python",
   "nbconvert_exporter": "python",
   "pygments_lexer": "ipython3",
   "version": "3.8.5"
  }
 },
 "nbformat": 4,
 "nbformat_minor": 4
}
